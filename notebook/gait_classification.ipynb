{
 "cells": [
  {
   "cell_type": "code",
   "execution_count": 1,
   "metadata": {},
   "outputs": [],
   "source": [
    "import warnings\n",
    "warnings.filterwarnings('ignore')\n",
    "import numpy as np\n",
    "import pandas as pd\n",
    "pd.set_option('display.max_rows', None)\n",
    "pd.set_option('display.max_columns', None)\n",
    "from collections import OrderedDict, Counter\n",
    "# from itertools import cycle\n",
    "import os\n",
    "import sys\n",
    "import matplotlib.pyplot as plt\n",
    "import seaborn as sns\n",
    "from tqdm import tqdm\n",
    "from colormap import rgb2hex\n",
    "# from scipy.integrate import cumtrapz\n",
    "# from mpl_toolkits import mplot3d\n",
    "import re\n",
    "\n",
    "from sklearn.model_selection import train_test_split\n",
    "from sklearn.metrics import confusion_matrix, roc_curve, auc\n",
    "\n",
    "import tensorflow as tf\n",
    "from keras import backend as K\n",
    "from tensorflow.keras.utils import to_categorical\n",
    "from keras.models import Sequential\n",
    "from keras.layers import Dense, Flatten, Dropout, LSTM\n",
    "from keras.callbacks import EarlyStopping, ModelCheckpoint, ReduceLROnPlateau\n",
    "from keras.metrics import AUC, Recall, Precision\n",
    "# from keras_tqdm import TQDMNotebookCallback\n",
    "\n",
    "import logging\n",
    "logging.disable(logging.WARNING)\n",
    "logging.getLogger(\"tensorflow\").setLevel(logging.ERROR)\n",
    "os.environ[\"TF_CPP_MIN_LOG_LEVEL\"] = \"3\"\n",
    "os.environ['AUTOGRAPH_VERBOSITY'] = '5'\n",
    "tf.autograph.set_verbosity(0)\n",
    "\n",
    "data_dir = '../data/processed_data'"
   ]
  },
  {
   "cell_type": "code",
   "execution_count": 2,
   "metadata": {},
   "outputs": [],
   "source": [
    "activity = np.array([line.rstrip().split(' ') for line in open(os.path.join(data_dir,'activity_labels.txt'))])\n",
    "activity = {int(k):v for k,v in zip(activity[:,0], activity[:,1])}"
   ]
  },
  {
   "cell_type": "markdown",
   "metadata": {},
   "source": [
    "# Load data"
   ]
  },
  {
   "cell_type": "code",
   "execution_count": 3,
   "metadata": {},
   "outputs": [
    {
     "name": "stdout",
     "output_type": "stream",
     "text": [
      "(10929, 128, 6) (10929,) (1122772, 11)\n"
     ]
    },
    {
     "data": {
      "text/html": [
       "<div>\n",
       "<style scoped>\n",
       "    .dataframe tbody tr th:only-of-type {\n",
       "        vertical-align: middle;\n",
       "    }\n",
       "\n",
       "    .dataframe tbody tr th {\n",
       "        vertical-align: top;\n",
       "    }\n",
       "\n",
       "    .dataframe thead th {\n",
       "        text-align: right;\n",
       "    }\n",
       "</style>\n",
       "<table border=\"1\" class=\"dataframe\">\n",
       "  <thead>\n",
       "    <tr style=\"text-align: right;\">\n",
       "      <th></th>\n",
       "      <th>ID</th>\n",
       "      <th>timestep</th>\n",
       "      <th>user ID</th>\n",
       "      <th>exp ID</th>\n",
       "      <th>accX</th>\n",
       "      <th>accY</th>\n",
       "      <th>accZ</th>\n",
       "      <th>gyroX</th>\n",
       "      <th>gyroY</th>\n",
       "      <th>gyroZ</th>\n",
       "      <th>label</th>\n",
       "    </tr>\n",
       "  </thead>\n",
       "  <tbody>\n",
       "    <tr>\n",
       "      <td>0</td>\n",
       "      <td>0</td>\n",
       "      <td>0.00</td>\n",
       "      <td>1</td>\n",
       "      <td>1</td>\n",
       "      <td>0.918056</td>\n",
       "      <td>-0.112500</td>\n",
       "      <td>0.509722</td>\n",
       "      <td>-0.054978</td>\n",
       "      <td>-0.069639</td>\n",
       "      <td>-0.030849</td>\n",
       "      <td>-1</td>\n",
       "    </tr>\n",
       "    <tr>\n",
       "      <td>1</td>\n",
       "      <td>1</td>\n",
       "      <td>0.02</td>\n",
       "      <td>1</td>\n",
       "      <td>1</td>\n",
       "      <td>0.911111</td>\n",
       "      <td>-0.093056</td>\n",
       "      <td>0.537500</td>\n",
       "      <td>-0.012523</td>\n",
       "      <td>0.019242</td>\n",
       "      <td>-0.038485</td>\n",
       "      <td>-1</td>\n",
       "    </tr>\n",
       "    <tr>\n",
       "      <td>2</td>\n",
       "      <td>2</td>\n",
       "      <td>0.04</td>\n",
       "      <td>1</td>\n",
       "      <td>1</td>\n",
       "      <td>0.881944</td>\n",
       "      <td>-0.086111</td>\n",
       "      <td>0.513889</td>\n",
       "      <td>-0.023518</td>\n",
       "      <td>0.276417</td>\n",
       "      <td>0.006414</td>\n",
       "      <td>-1</td>\n",
       "    </tr>\n",
       "    <tr>\n",
       "      <td>3</td>\n",
       "      <td>3</td>\n",
       "      <td>0.06</td>\n",
       "      <td>1</td>\n",
       "      <td>1</td>\n",
       "      <td>0.881944</td>\n",
       "      <td>-0.086111</td>\n",
       "      <td>0.513889</td>\n",
       "      <td>-0.093462</td>\n",
       "      <td>0.367741</td>\n",
       "      <td>0.001222</td>\n",
       "      <td>-1</td>\n",
       "    </tr>\n",
       "    <tr>\n",
       "      <td>4</td>\n",
       "      <td>4</td>\n",
       "      <td>0.08</td>\n",
       "      <td>1</td>\n",
       "      <td>1</td>\n",
       "      <td>0.879167</td>\n",
       "      <td>-0.100000</td>\n",
       "      <td>0.505556</td>\n",
       "      <td>-0.124311</td>\n",
       "      <td>0.476780</td>\n",
       "      <td>-0.022907</td>\n",
       "      <td>-1</td>\n",
       "    </tr>\n",
       "  </tbody>\n",
       "</table>\n",
       "</div>"
      ],
      "text/plain": [
       "   ID  timestep  user ID  exp ID      accX      accY      accZ     gyroX  \\\n",
       "0   0      0.00        1       1  0.918056 -0.112500  0.509722 -0.054978   \n",
       "1   1      0.02        1       1  0.911111 -0.093056  0.537500 -0.012523   \n",
       "2   2      0.04        1       1  0.881944 -0.086111  0.513889 -0.023518   \n",
       "3   3      0.06        1       1  0.881944 -0.086111  0.513889 -0.093462   \n",
       "4   4      0.08        1       1  0.879167 -0.100000  0.505556 -0.124311   \n",
       "\n",
       "      gyroY     gyroZ  label  \n",
       "0 -0.069639 -0.030849     -1  \n",
       "1  0.019242 -0.038485     -1  \n",
       "2  0.276417  0.006414     -1  \n",
       "3  0.367741  0.001222     -1  \n",
       "4  0.476780 -0.022907     -1  "
      ]
     },
     "execution_count": 3,
     "metadata": {},
     "output_type": "execute_result"
    }
   ],
   "source": [
    "with open('../data/processed_data/X.npy', 'rb') as f:\n",
    "    X = np.load(f)\n",
    "with open('../data/processed_data/y.npy', 'rb') as f:\n",
    "    y = np.load(f)\n",
    "df = pd.read_csv('../data/processed_data/data.csv',index_col=0)\n",
    "\n",
    "print(X.shape, y.shape, df.shape)\n",
    "df.head()"
   ]
  },
  {
   "cell_type": "code",
   "execution_count": 4,
   "metadata": {},
   "outputs": [
    {
     "data": {
      "image/png": "[encoded data removed]",
      "text/plain": [
       "<Figure size 1440x720 with 1 Axes>"
      ]
     },
     "metadata": {
      "needs_background": "light"
     },
     "output_type": "display_data"
    }
   ],
   "source": [
    "counts = Counter(y)\n",
    "\n",
    "plt.figure(figsize=(20,10))\n",
    "plt.bar(counts.keys(), counts.values(), width = 0.8)\n",
    "plt.tick_params(labelsize = 20)\n",
    "plt.xticks(list(counts.keys()), [activity[i] for i in list(counts.keys())],rotation=90)\n",
    "plt.ylabel(\"Frequency\",fontsize=20)\n",
    "plt.title('%s datapoints in the dataset'%(y.shape[0]),fontsize=20)\n",
    "\n",
    "plt.show()"
   ]
  },
  {
   "cell_type": "markdown",
   "metadata": {},
   "source": [
    "# Data visualization\n",
    "## User 1 - experience 1"
   ]
  },
  {
   "cell_type": "code",
   "execution_count": 5,
   "metadata": {},
   "outputs": [
    {
     "data": {
      "image/png": "[encoded data removed]",
      "text/plain": [
       "<Figure size 1440x720 with 1 Axes>"
      ]
     },
     "metadata": {
      "needs_background": "light"
     },
     "output_type": "display_data"
    }
   ],
   "source": [
    "vis = df[(df['user ID']==1) & (df['exp ID']==1)]\n",
    "\n",
    "plt.figure(figsize=(20,10))\n",
    "plt.plot(vis['timestep'], vis['label'])\n",
    "plt.xlabel('Timestep [sec]', fontsize=20)\n",
    "plt.ylabel('Label', fontsize=20)\n",
    "plt.yticks(np.arange(-1,len(list(activity.values()))+1), ['No label/stop', ''] + list(activity.values()), fontsize=15)\n",
    "\n",
    "plt.show()"
   ]
  },
  {
   "cell_type": "markdown",
   "metadata": {},
   "source": [
    "# Dataset creation"
   ]
  },
  {
   "cell_type": "code",
   "execution_count": 6,
   "metadata": {},
   "outputs": [],
   "source": [
    "X_train, X_val, y_train, y_val = train_test_split(X, y-1, test_size=0.25, random_state=0, stratify=y)\n",
    "X_val, X_test, y_val, y_test = train_test_split(X_val, y_val, test_size=0.5, random_state=0, stratify=y_val)"
   ]
  },
  {
   "cell_type": "code",
   "execution_count": 7,
   "metadata": {},
   "outputs": [],
   "source": [
    "y_train = to_categorical(y_train)\n",
    "y_test = to_categorical(y_test)\n",
    "y_val = to_categorical(y_val)"
   ]
  },
  {
   "cell_type": "markdown",
   "metadata": {},
   "source": [
    "# RNN - LSTM approach"
   ]
  },
  {
   "cell_type": "code",
   "execution_count": 8,
   "metadata": {},
   "outputs": [],
   "source": [
    "def recall_m(y_true, y_pred):\n",
    "    TP = K.sum(K.round(K.clip(y_true * y_pred, 0, 1)))\n",
    "    Positives = K.sum(K.round(K.clip(y_true, 0, 1)))\n",
    "    return TP / (Positives+K.epsilon())\n",
    "    \n",
    "def precision_m(y_true, y_pred):\n",
    "    TP = K.sum(K.round(K.clip(y_true * y_pred, 0, 1)))\n",
    "    Pred_Positives = K.sum(K.round(K.clip(y_pred, 0, 1)))\n",
    "    return TP / (Pred_Positives+K.epsilon()) \n",
    "\n",
    "def f1_score_m(y_true, y_pred):\n",
    "    precision = precision_m(y_true, y_pred)\n",
    "    recall = recall_m(y_true, y_pred)\n",
    "    return 2*((precision*recall)/(precision+recall+K.epsilon()))"
   ]
  },
  {
   "cell_type": "code",
   "execution_count": 9,
   "metadata": {},
   "outputs": [],
   "source": [
    "callbacks_list = [EarlyStopping(patience=20),\n",
    "                  ModelCheckpoint(filepath='../model/model.{epoch:02d}-{val_loss:.2f}.h5', \n",
    "                                  save_best_only=True,\n",
    "                                  monitor='val_loss',\n",
    "                                  mode='min'),\n",
    "                  ReduceLROnPlateau(monitor='val_loss',\n",
    "                                    factor=0.2,\n",
    "                                    patience=5,\n",
    "                                    min_lr=0.001)]\n",
    "metrics = [Recall(),\n",
    "           Precision(),\n",
    "           precision_m,\n",
    "           recall_m,\n",
    "           f1_score_m]"
   ]
  },
  {
   "cell_type": "code",
   "execution_count": 10,
   "metadata": {},
   "outputs": [],
   "source": [
    "step = 128 # 2.56 sec at 50 Hz - sliding window\n",
    "num_features = 6 # X-Y-Z for acc and gyro\n",
    "num_classes = len(np.unique(y)) # 12 labels"
   ]
  },
  {
   "cell_type": "code",
   "execution_count": 11,
   "metadata": {},
   "outputs": [],
   "source": [
    "model = Sequential()\n",
    "model.add(LSTM(100, input_shape=(step, num_features)))\n",
    "model.add(Dropout(0.5))\n",
    "model.add(Dense(100, activation='relu'))\n",
    "model.add(Dense(num_classes, activation='softmax'))\n",
    "model.compile(loss='categorical_crossentropy', optimizer='adam', metrics=metrics)"
   ]
  },
  {
   "cell_type": "markdown",
   "metadata": {},
   "source": [
    "# Model training"
   ]
  },
  {
   "cell_type": "code",
   "execution_count": null,
   "metadata": {
    "scrolled": false
   },
   "outputs": [],
   "source": [
    "history = model.fit(X_train,\n",
    "                    y_train,\n",
    "                    epochs=100,\n",
    "                    batch_size=64,\n",
    "                    callbacks=callbacks_list,\n",
    "                    validation_data=(X_val, y_val),\n",
    "                    shuffle=True,\n",
    "                    verbose=0)"
   ]
  },
  {
   "cell_type": "markdown",
   "metadata": {},
   "source": [
    "# Model evaluation"
   ]
  },
  {
   "cell_type": "code",
   "execution_count": null,
   "metadata": {},
   "outputs": [],
   "source": [
    "results = model.evaluate(X_test, y_test, verbose=2)"
   ]
  },
  {
   "cell_type": "markdown",
   "metadata": {},
   "source": [
    "# Training metrics"
   ]
  },
  {
   "cell_type": "code",
   "execution_count": null,
   "metadata": {},
   "outputs": [],
   "source": [
    "plt.figure(figsize=(20,10))\n",
    "plt.rcParams.update({'font.size': 15})\n",
    "\n",
    "plt.subplot(3,3,1)\n",
    "plt.plot(history.history['loss'], label='train_loss')\n",
    "plt.plot(history.history['val_loss'], label='val_loss')\n",
    "plt.legend()\n",
    "\n",
    "plt.subplot(3,3,2)\n",
    "plt.plot(history.history['f1_score_m'], label='train_f1_score')\n",
    "plt.plot(history.history['val_f1_score_m'], label='val_f1_score')\n",
    "plt.legend()\n",
    "\n",
    "plt.subplot(3,3,4)\n",
    "plt.plot(history.history['precision'], label='train_precision')\n",
    "plt.plot(history.history['val_precision'], label='val_precision')\n",
    "plt.legend()\n",
    "\n",
    "plt.subplot(3,3,5)\n",
    "plt.plot(history.history['recall'], label='train_recall')\n",
    "plt.plot(history.history['val_recall'], label='val_recall')\n",
    "plt.legend()\n",
    "\n",
    "plt.subplot(3,3,7)\n",
    "plt.plot(history.history['precision_m'], label='train_precision_m')\n",
    "plt.plot(history.history['val_precision'], label='val_precision_m')\n",
    "plt.legend()\n",
    "\n",
    "plt.subplot(3,3,8)\n",
    "plt.plot(history.history['recall_m'], label='train_recall_m')\n",
    "plt.plot(history.history['val_recall_m'], label='val_recall_m')\n",
    "plt.legend()\n",
    "\n",
    "plt.tight_layout()"
   ]
  },
  {
   "cell_type": "markdown",
   "metadata": {},
   "source": [
    "# Test data evaluation"
   ]
  },
  {
   "cell_type": "code",
   "execution_count": null,
   "metadata": {},
   "outputs": [],
   "source": [
    "preds = model.predict(X_test)"
   ]
  },
  {
   "cell_type": "markdown",
   "metadata": {},
   "source": [
    "### ROC"
   ]
  },
  {
   "cell_type": "code",
   "execution_count": null,
   "metadata": {},
   "outputs": [],
   "source": [
    "n_classes = len(list(activity.values()))\n",
    "fpr, tpr, roc_auc = {}, {}, {}\n",
    "\n",
    "for i in range(n_classes):\n",
    "    fpr[i], tpr[i], _ = roc_curve(y_test[:, i], preds[:, i])\n",
    "    roc_auc[i] = auc(fpr[i], tpr[i])\n",
    "\n",
    "# Compute micro-average ROC curve and ROC area\n",
    "fpr[\"micro\"], tpr[\"micro\"], _ = roc_curve(y_test.ravel(), preds.ravel())\n",
    "roc_auc[\"micro\"] = auc(fpr[\"micro\"], tpr[\"micro\"])\n",
    "\n",
    "# First aggregate all false positive rates\n",
    "all_fpr = np.unique(np.concatenate([fpr[i] for i in range(n_classes)]))\n",
    "mean_tpr = np.zeros_like(all_fpr)\n",
    "for i in range(n_classes):\n",
    "    mean_tpr += np.interp(all_fpr, fpr[i], tpr[i])\n",
    "mean_tpr /= n_classes\n",
    "\n",
    "fpr[\"macro\"], tpr[\"macro\"] = all_fpr, mean_tpr\n",
    "roc_auc[\"macro\"] = auc(fpr[\"macro\"], tpr[\"macro\"])"
   ]
  },
  {
   "cell_type": "markdown",
   "metadata": {},
   "source": [
    "### Confusion matrix"
   ]
  },
  {
   "cell_type": "code",
   "execution_count": null,
   "metadata": {},
   "outputs": [],
   "source": [
    "res = confusion_matrix(np.argmax(y_test,axis=1), np.argmax(preds,axis=1))\n",
    "col = [i.lower() for i in list(activity.values())]\n",
    "confusion = pd.DataFrame(res, columns=col, index = col)\n",
    "confusion.index.name, confusion.columns.name = 'Actual', 'Predicted'"
   ]
  },
  {
   "cell_type": "markdown",
   "metadata": {},
   "source": [
    "### Plot results"
   ]
  },
  {
   "cell_type": "code",
   "execution_count": null,
   "metadata": {},
   "outputs": [],
   "source": [
    "plt.figure(figsize = (15,6))\n",
    "plt.subplot(1,2,1)\n",
    "sns.set(font_scale=1)\n",
    "sns.heatmap(confusion, annot=True, cmap='Blues', annot_kws={\"size\": 10})\n",
    "\n",
    "plt.subplot(1,2,2)\n",
    "np.random.seed(10)\n",
    "colors = [(np.random.choice(range(256), size=3)).tolist() for i in range(n_classes)]\n",
    "for idx in range(n_classes):\n",
    "    plt.plot(fpr[idx],tpr[idx],\n",
    "             color=rgb2hex(*colors[idx]),\n",
    "             lw=2,\n",
    "             label=\"{0} (auc = {1:0.3f})\".format(activity[idx+1].lower(), roc_auc[idx]))\n",
    "plt.plot([0, 1], [0, 1], \"k--\", lw=1)\n",
    "plt.xlabel(\"False Positive Rate\", fontsize=10)\n",
    "plt.ylabel(\"True Positive Rate\", fontsize=10)\n",
    "plt.legend(loc='center left', bbox_to_anchor=(1, 0.5), fontsize=10)\n",
    "plt.tight_layout()\n",
    "plt.show()"
   ]
  },
  {
   "cell_type": "code",
   "execution_count": null,
   "metadata": {},
   "outputs": [],
   "source": []
  }
 ],
 "metadata": {
  "kernelspec": {
   "display_name": "Python 3",
   "language": "python",
   "name": "python3"
  },
  "language_info": {
   "codemirror_mode": {
    "name": "ipython",
    "version": 3
   },
   "file_extension": ".py",
   "mimetype": "text/x-python",
   "name": "python",
   "nbconvert_exporter": "python",
   "pygments_lexer": "ipython3",
   "version": "3.7.4"
  }
 },
 "nbformat": 4,
 "nbformat_minor": 2
}
